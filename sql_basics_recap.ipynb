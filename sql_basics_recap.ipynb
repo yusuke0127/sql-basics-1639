{
 "cells": [
  {
   "cell_type": "markdown",
   "metadata": {},
   "source": [
    "# Recap - SQL Basics"
   ]
  },
  {
   "cell_type": "markdown",
   "metadata": {},
   "source": [
    "For this recap, we have an extra `data` folder.  \n",
    "\n",
    "We need to download the `jukebox.sqlite` database and place it in this `data` folder.  \n",
    "\n",
    "The `jukebox.sqlite` file is available at this URL:  \n",
    "`https://wagon-public-datasets.s3.amazonaws.com/sql_databases/jukebox.sqlite`"
   ]
  },
  {
   "cell_type": "code",
   "execution_count": null,
   "metadata": {},
   "outputs": [],
   "source": []
  },
  {
   "cell_type": "markdown",
   "metadata": {},
   "source": [
    "Let's have a look at our directory structure"
   ]
  },
  {
   "cell_type": "code",
   "execution_count": 1,
   "metadata": {},
   "outputs": [
    {
     "name": "stdout",
     "output_type": "stream",
     "text": [
      "\u001b[1;36m.\u001b[0m\r\n",
      "├── README.md\r\n",
      "├── \u001b[1;36mdata\u001b[0m\r\n",
      "│   └── jukebox.sqlite\r\n",
      "├── schema-jukebox.png\r\n",
      "└── sql_basics_recap.ipynb\r\n",
      "\r\n",
      "2 directories, 4 files\r\n"
     ]
    }
   ],
   "source": [
    "!tree"
   ]
  },
  {
   "cell_type": "markdown",
   "metadata": {},
   "source": [
    "👉 Open `data/jukebox.sqlite` in **DBeaver** and have a look at the table names & columns."
   ]
  },
  {
   "cell_type": "markdown",
   "metadata": {},
   "source": [
    "---\n",
    "\n",
    "###  Database Schema\n",
    "\n",
    "Here is a **simplified** version of the schema:\n",
    "\n",
    "<img src=\"https://wagon-public-datasets.s3.amazonaws.com/01-Python/03-SQL-Basics/jukebox_schema.png\" width=900>"
   ]
  },
  {
   "cell_type": "markdown",
   "metadata": {},
   "source": [
    "---\n",
    "## 1. All Artists\n",
    "\n",
    "Complete the code below to fetch a list of all the artist names from the database.\n",
    "\n",
    "Fetch only the **artist names**, not all the columns!"
   ]
  },
  {
   "cell_type": "code",
   "execution_count": 6,
   "metadata": {},
   "outputs": [
    {
     "name": "stdout",
     "output_type": "stream",
     "text": [
      "['AC/DC', 'Accept', 'Aerosmith', 'Alanis Morissette', 'Alice In Chains', 'Antônio Carlos Jobim', 'Apocalyptica', 'Audioslave', 'BackBeat', 'Billy Cobham', 'Black Label Society', 'Black Sabbath', 'Body Count', 'Bruce Dickinson', 'Buddy Guy', 'Caetano Veloso', 'Chico Buarque', 'Chico Science & Nação Zumbi', 'Cidade Negra', 'Cláudio Zoli', 'Various Artists', 'Led Zeppelin', 'Frank Zappa & Captain Beefheart', 'Marcos Valle', 'Milton Nascimento & Bebeto', 'Azymuth', 'Gilberto Gil', 'João Gilberto', 'Bebel Gilberto', 'Jorge Vercilo', 'Baby Consuelo', 'Ney Matogrosso', 'Luiz Melodia', 'Nando Reis', 'Pedro Luís & A Parede', 'O Rappa', 'Ed Motta', 'Banda Black Rio', 'Fernanda Porto', 'Os Cariocas', 'Elis Regina', 'Milton Nascimento', 'A Cor Do Som', 'Kid Abelha', 'Sandra De Sá', 'Jorge Ben', 'Hermeto Pascoal', 'Barão Vermelho', 'Edson, DJ Marky & DJ Patife Featuring Fernanda Porto', 'Metallica', 'Queen', 'Kiss', 'Spyro Gyra', 'Green Day', 'David Coverdale', 'Gonzaguinha', 'Os Mutantes', 'Deep Purple', 'Santana', 'Santana Feat. Dave Matthews', 'Santana Feat. Everlast', 'Santana Feat. Rob Thomas', 'Santana Feat. Lauryn Hill & Cee-Lo', 'Santana Feat. The Project G&B', 'Santana Feat. Maná', 'Santana Feat. Eagle-Eye Cherry', 'Santana Feat. Eric Clapton', 'Miles Davis', 'Gene Krupa', 'Toquinho & Vinícius', 'Vinícius De Moraes & Baden Powell', 'Vinícius De Moraes', 'Vinícius E Qurteto Em Cy', 'Vinícius E Odette Lara', 'Vinicius, Toquinho & Quarteto Em Cy', 'Creedence Clearwater Revival', 'Cássia Eller', 'Def Leppard', 'Dennis Chambers', 'Djavan', 'Eric Clapton', 'Faith No More', 'Falamansa', 'Foo Fighters', 'Frank Sinatra', 'Funk Como Le Gusta', 'Godsmack', \"Guns N' Roses\", 'Incognito', 'Iron Maiden', 'James Brown', 'Jamiroquai', 'JET', 'Jimi Hendrix', 'Joe Satriani', 'Jota Quest', 'João Suplicy', 'Judas Priest', 'Legião Urbana', 'Lenny Kravitz', 'Lulu Santos', 'Marillion', 'Marisa Monte', 'Marvin Gaye', 'Men At Work', 'Motörhead', 'Motörhead & Girlschool', 'Mônica Marianno', 'Mötley Crüe', 'Nirvana', 'O Terço', 'Olodum', 'Os Paralamas Do Sucesso', 'Ozzy Osbourne', 'Page & Plant', 'Passengers', \"Paul D'Ianno\", 'Pearl Jam', 'Peter Tosh', 'Pink Floyd', 'Planet Hemp', 'R.E.M. Feat. Kate Pearson', 'R.E.M. Feat. KRS-One', 'R.E.M.', 'Raimundos', 'Raul Seixas', 'Red Hot Chili Peppers', 'Rush', 'Simply Red', 'Skank', 'Smashing Pumpkins', 'Soundgarden', 'Stevie Ray Vaughan & Double Trouble', 'Stone Temple Pilots', 'System Of A Down', 'Terry Bozzio, Tony Levin & Steve Stevens', 'The Black Crowes', 'The Clash', 'The Cult', 'The Doors', 'The Police', 'The Rolling Stones', 'The Tea Party', 'The Who', 'Tim Maia', 'Titãs', 'Battlestar Galactica', 'Heroes', 'Lost', 'U2', 'UB40', 'Van Halen', 'Velvet Revolver', 'Whitesnake', 'Zeca Pagodinho', 'The Office', 'Dread Zeppelin', 'Battlestar Galactica (Classic)', 'Aquaman', 'Christina Aguilera featuring BigElf', \"Aerosmith & Sierra Leone's Refugee Allstars\", 'Los Lonely Boys', 'Corinne Bailey Rae', 'Dhani Harrison & Jakob Dylan', 'Jackson Browne', 'Avril Lavigne', 'Big & Rich', \"Youssou N'Dour\", 'Black Eyed Peas', 'Jack Johnson', 'Ben Harper', 'Snow Patrol', 'Matisyahu', 'The Postal Service', 'Jaguares', 'The Flaming Lips', \"Jack's Mannequin & Mick Fleetwood\", 'Regina Spektor', 'Scorpions', 'House Of Pain', 'Xis', 'Nega Gizza', 'Gustavo & Andres Veiga & Salazar', 'Rodox', 'Charlie Brown Jr.', 'Pedro Luís E A Parede', 'Los Hermanos', 'Mundo Livre S/A', 'Otto', 'Instituto', 'Nação Zumbi', 'DJ Dolores & Orchestra Santa Massa', 'Seu Jorge', 'Sabotage E Instituto', 'Stereo Maracana', 'Cake', 'Aisha Duo', 'Habib Koité and Bamada', 'Karsh Kale', 'The Posies', 'Luciana Souza/Romero Lubambo', 'Aaron Goldberg', 'Nicolaus Esterhazy Sinfonia', 'Temple of the Dog', 'Chris Cornell', 'Alberto Turco & Nova Schola Gregoriana', 'Richard Marlow & The Choir of Trinity College, Cambridge', 'English Concert & Trevor Pinnock', 'Anne-Sophie Mutter, Herbert Von Karajan & Wiener Philharmoniker', 'Hilary Hahn, Jeffrey Kahane, Los Angeles Chamber Orchestra & Margaret Batjer', 'Wilhelm Kempff', 'Yo-Yo Ma', 'Scholars Baroque Ensemble', 'Academy of St. Martin in the Fields & Sir Neville Marriner', 'Academy of St. Martin in the Fields Chamber Ensemble & Sir Neville Marriner', 'Berliner Philharmoniker, Claudio Abbado & Sabine Meyer', 'Royal Philharmonic Orchestra & Sir Thomas Beecham', 'Orchestre Révolutionnaire et Romantique & John Eliot Gardiner', 'Britten Sinfonia, Ivor Bolton & Lesley Garrett', 'Chicago Symphony Chorus, Chicago Symphony Orchestra & Sir Georg Solti', 'Sir Georg Solti & Wiener Philharmoniker', 'Academy of St. Martin in the Fields, John Birch, Sir Neville Marriner & Sylvia McNair', 'London Symphony Orchestra & Sir Charles Mackerras', 'Barry Wordsworth & BBC Concert Orchestra', 'Herbert Von Karajan, Mirella Freni & Wiener Philharmoniker', 'Eugene Ormandy', 'Luciano Pavarotti', 'Leonard Bernstein & New York Philharmonic', 'Boston Symphony Orchestra & Seiji Ozawa', 'Aaron Copland & London Symphony Orchestra', 'Ton Koopman', 'Sergei Prokofiev & Yuri Temirkanov', 'Chicago Symphony Orchestra & Fritz Reiner', 'Orchestra of The Age of Enlightenment', 'Emanuel Ax, Eugene Ormandy & Philadelphia Orchestra', 'James Levine', 'Berliner Philharmoniker & Hans Rosbaud', 'Maurizio Pollini', 'Academy of St. Martin in the Fields, Sir Neville Marriner & William Bennett', 'Gustav Mahler', 'Felix Schmidt, London Symphony Orchestra & Rafael Frühbeck de Burgos', 'Edo de Waart & San Francisco Symphony', 'Antal Doráti & London Symphony Orchestra', 'Choir Of Westminster Abbey & Simon Preston', 'Michael Tilson Thomas & San Francisco Symphony', 'Chor der Wiener Staatsoper, Herbert Von Karajan & Wiener Philharmoniker', \"The King's Singers\", 'Berliner Philharmoniker & Herbert Von Karajan', 'Sir Georg Solti, Sumi Jo & Wiener Philharmoniker', \"Christopher O'Riley\", 'Fretwork', 'Amy Winehouse', 'Calexico', 'Otto Klemperer & Philharmonia Orchestra', 'Yehudi Menuhin', 'Philharmonia Orchestra & Sir Neville Marriner', 'Academy of St. Martin in the Fields, Sir Neville Marriner & Thurston Dart', 'Les Arts Florissants & William Christie', 'The 12 Cellists of The Berlin Philharmonic', 'Adrian Leaper & Doreen de Feis', 'Roger Norrington, London Classical Players', \"Charles Dutoit & L'Orchestre Symphonique de Montréal\", 'Equale Brass Ensemble, John Eliot Gardiner & Munich Monteverdi Orchestra and Choir', \"Kent Nagano and Orchestre de l'Opéra de Lyon\", 'Julian Bream', 'Martin Roscoe', 'Göteborgs Symfoniker & Neeme Järvi', 'Itzhak Perlman', 'Michele Campanella', 'Gerald Moore', 'Mela Tenenbaum, Pro Musica Prague & Richard Kapp', 'Emerson String Quartet', 'C. Monteverdi, Nigel Rogers - Chiaroscuro; London Baroque; London Cornett & Sackbu', 'Nash Ensemble', 'Philip Glass Ensemble']\n"
     ]
    }
   ],
   "source": [
    "import sqlite3\n",
    "\n",
    "db_path = 'data/jukebox.sqlite'\n",
    "conn = sqlite3.connect(db_path)\n",
    "\n",
    "c = conn.cursor()\n",
    "\n",
    "query = \"\"\"\n",
    "    SELECT name \n",
    "    FROM artists\n",
    "\"\"\"\n",
    "\n",
    "\n",
    "c.execute(query)\n",
    "rows = c.fetchall()\n",
    "rows\n",
    "\n",
    "lists = [names[0] for names in rows]\n",
    "print(lists)\n"
   ]
  },
  {
   "cell_type": "markdown",
   "metadata": {},
   "source": [
    "---\n",
    "## 2. Short Tracks\n",
    "\n",
    "Let's **count** the number of tracks in the database that last **less than 2 minutes**.\n",
    "\n",
    "The goal is to get an integer out, _not a tuple_.\n",
    "\n",
    "**Hint** - *Remember that 1 minute is 60000 milliseconds*"
   ]
  },
  {
   "cell_type": "code",
   "execution_count": 12,
   "metadata": {},
   "outputs": [
    {
     "name": "stdout",
     "output_type": "stream",
     "text": [
      "93\n"
     ]
    }
   ],
   "source": [
    "query = \"\"\"\n",
    "    SELECT COUNT(*)  \n",
    "    FROM tracks \n",
    "    WHERE milliseconds < 2 * 60000\n",
    "\"\"\"\n",
    "\n",
    "c.execute(query)\n",
    "response = c.fetchone()\n",
    "# number = response[0][0]\n",
    "print(response[0])\n",
    "\n",
    "\n",
    "\n",
    "# TODO: fetch & print the result\n"
   ]
  },
  {
   "cell_type": "markdown",
   "metadata": {},
   "source": [
    "---\n",
    "\n",
    "## 3. First Ten Albums\n",
    "\n",
    "Let's get the first ten albums of the Jukebox DB, sorted alphabetically."
   ]
  },
  {
   "cell_type": "code",
   "execution_count": 17,
   "metadata": {},
   "outputs": [
    {
     "name": "stdout",
     "output_type": "stream",
     "text": [
      "...And Justice For All\n",
      "20th Century Masters - The Millennium Collection: The Best of Scorpions\n",
      "A Copland Celebration, Vol. I\n",
      "A Matter of Life and Death\n",
      "A Real Dead One\n",
      "A Real Live One\n",
      "A Soprano Inspired\n",
      "A TempestadeTempestade Ou O Livro Dos Dias\n",
      "A-Sides\n",
      "Ace Of Spades\n"
     ]
    }
   ],
   "source": [
    "query = \"\"\"\n",
    "    SELECT title from albums\n",
    "    ORDER BY title ASC \n",
    "    LIMIT 10\n",
    "\"\"\"\n",
    "\n",
    "c.execute(query)\n",
    "rows = c.fetchall()\n",
    "rows\n",
    "for album in rows:\n",
    "    print(album[0])"
   ]
  },
  {
   "cell_type": "markdown",
   "metadata": {},
   "source": [
    "---\n",
    "## 4. Tracks with a keyword\n",
    "\n",
    "\n",
    "Fetch track & album information for tracks which contain a given keyword (case insensitive)."
   ]
  },
  {
   "cell_type": "code",
   "execution_count": 22,
   "metadata": {},
   "outputs": [
    {
     "data": {
      "text/plain": [
       "[('Love In An Elevator', 'Big Ones'),\n",
       " ('Love, Hate, Love', 'Facelift'),\n",
       " ('Let Me Love You Baby', 'The Best Of Buddy Guy - The Millenium Collection'),\n",
       " ('My Love', 'Axé Bahia 2001'),\n",
       " ('The Girl I Love She Got Long Black Wavy Hair',\n",
       "  'BBC Sessions [Disc 1] [Live]'),\n",
       " ('Whole Lotta Love', 'BBC Sessions [Disc 1] [Live]'),\n",
       " ('Loverman', 'Garage Inc. (Disc 1)'),\n",
       " ('Love Gun', 'Greatest Kiss'),\n",
       " ('Do You Love Me', 'Greatest Kiss'),\n",
       " ('Calling Dr. Love', 'Greatest Kiss'),\n",
       " ('Love Is Blind', 'Into The Light'),\n",
       " ('Cry For Love', 'Into The Light'),\n",
       " ('Living On Love', 'Into The Light'),\n",
       " ('Love Of My Life', 'Supernatural'),\n",
       " ('Um Love', 'The Best of Ed Motta'),\n",
       " ('Do You Have Other Loves?', 'The Best of Ed Motta'),\n",
       " (\"Don't Take Your Love From Me\", \"Up An' Atom\"),\n",
       " ('I Need Love', 'Come Taste The Band'),\n",
       " ('Love Child', 'Come Taste The Band'),\n",
       " (\"Cascades : I'm Not Your Lover\", 'Purpendicular'),\n",
       " ('Love Conquers All', 'Slaves And Masters'),\n",
       " (\"Love Don't Mean a Thing\", 'Stormbringer'),\n",
       " (\"You Can't Do it Right (With the One You Love)\", 'Stormbringer'),\n",
       " ('Talk About Love', 'The Battle Rages On'),\n",
       " ('Love Bites', \"Vault: Def Leppard's Greatest Hits\"),\n",
       " ('When Love & Hate Collide', \"Vault: Def Leppard's Greatest Hits\"),\n",
       " ('Make Love Like A Man', \"Vault: Def Leppard's Greatest Hits\"),\n",
       " ('Sunshine Of Your Love', 'The Cream Of Clapton'),\n",
       " ('Old Love', 'Unplugged'),\n",
       " ('She Loves Me Not', 'Album Of The Year'),\n",
       " ('Underwater Love', 'The Real Thing'),\n",
       " ('What Now My Love', 'My Way: The Best Of Frank Sinatra [Disc 1]'),\n",
       " ('Summer Love', 'My Way: The Best Of Frank Sinatra [Disc 1]'),\n",
       " ('Love And Marriage', 'My Way: The Best Of Frank Sinatra [Disc 1]'),\n",
       " ('Loves Been Good To Me', 'My Way: The Best Of Frank Sinatra [Disc 1]'),\n",
       " ('Is This Love (Live)', 'Quanta Gente Veio Ver (Live)'),\n",
       " (\"Jesus Of Suburbia / City Of The Damned / I Don't Care / Dearly Beloved / Tales Of Another Broken Home\",\n",
       "  'American Idiot'),\n",
       " ('Love Is The Colour', 'Blue Moods'),\n",
       " ('Wasting Love', 'A Real Live One'),\n",
       " ('The Thin Line Between Love & Hate', 'Brave New World'),\n",
       " ('Wasting Love', 'Fear Of The Dark'),\n",
       " ('Wasting Love', 'Live At Donington 1992 (Disc 1)'),\n",
       " ('Rollover D.J.', 'Get Born'),\n",
       " ('Love Or Confusion', 'Are You Experienced?'),\n",
       " ('May This Be Love', 'Are You Experienced?'),\n",
       " ('Turbo Lover', 'Living After Midnight'),\n",
       " ('Do You Love Me', 'Unplugged [Live]'),\n",
       " ('I Still Love You', 'Unplugged [Live]'),\n",
       " ('Whole Lotta Love (Medley)', 'BBC Sessions [Disc 2] [Live]'),\n",
       " ('All My Love', 'In Through The Out Door'),\n",
       " ('Whole Lotta Love', 'Led Zeppelin II'),\n",
       " ('Whole Lotta Love', 'The Song Remains The Same (Disc 2)'),\n",
       " ('Let Love Rule', 'Greatest Hits'),\n",
       " ('Give Me Love', 'Barulhinho Bom'),\n",
       " ('When I Had Your Love', 'Seek And Shall Find: More Of The Best (1963-1981)'),\n",
       " (\"Gonna Keep On Tryin' Till I Win Your Love\",\n",
       "  'Seek And Shall Find: More Of The Best (1963-1981)'),\n",
       " (\"Gonna Give Her All The Love I've Got\",\n",
       "  'Seek And Shall Find: More Of The Best (1963-1981)'),\n",
       " ('You Sure Love To Ball',\n",
       "  'Seek And Shall Find: More Of The Best (1963-1981)'),\n",
       " ('Heavy Love Affair', 'Seek And Shall Find: More Of The Best (1963-1981)'),\n",
       " ('Love Me Like A Reptile', 'Ace Of Spades'),\n",
       " ('Dirty Love', 'Ace Of Spades'),\n",
       " ('Too Fast For Love', 'Motley Crue Greatest Hits'),\n",
       " ('House Of Love', 'Walking Into Clarksdale'),\n",
       " ('Love Boat Captain', 'Riot Act'),\n",
       " ('Nothing But Love', 'Greatest Hits'),\n",
       " ('Crazy Little Thing Called Love', 'Greatest Hits I'),\n",
       " ('Somebody To Love', 'Greatest Hits I'),\n",
       " ('Good Old-Fashioned Lover Boy', 'Greatest Hits I'),\n",
       " ('Get Down, Make Love', 'News Of The World'),\n",
       " ('The One I Love', 'The Best Of R.E.M.: The IRS Years'),\n",
       " ('My Lovely Man', 'Blood Sugar Sex Magik'),\n",
       " ('This Velvet Glove', 'Californication'),\n",
       " (\"It's Only Love\", 'Greatest Hits'),\n",
       " ('Stand Inside Your Love', 'Rotten Apples: Greatest Hits'),\n",
       " ('Real Love', 'Rotten Apples: Greatest Hits'),\n",
       " ('Loud Love', 'A-Sides'),\n",
       " ('Let Me Love You Baby', 'In Step'),\n",
       " (\"Love Me Darlin'\", 'In Step'),\n",
       " ('Love Removal Machine',\n",
       "  'Pure Cult: The Best Of The Cult (For Rockers, Ravers, Lovers & Sinners) [UK]'),\n",
       " ('Love',\n",
       "  'Pure Cult: The Best Of The Cult (For Rockers, Ravers, Lovers & Sinners) [UK]'),\n",
       " ('Love Is Strong', 'Voodoo Lounge'),\n",
       " ('New Love', 'Serie Sem Limite (Disc 1)'),\n",
       " ('Love Is Blindness', 'Achtung Baby'),\n",
       " ('Love Comes Tumbling', 'B-Sides 1980-1990'),\n",
       " ('Everlasting Love', 'B-Sides 1980-1990'),\n",
       " ('Luminous Times (Hold On To Love)', 'B-Sides 1980-1990'),\n",
       " ('Love And Peace Or Else', 'How To Dismantle An Atomic Bomb'),\n",
       " ('Do You Feel Loved', 'Pop'),\n",
       " ('Pride (In The Name Of Love)', 'Rattle And Hum'),\n",
       " ('Love Rescue Me', 'Rattle And Hum'),\n",
       " ('When Love Comes To Town', 'Rattle And Hum'),\n",
       " ('Pride (In The Name Of Love)', 'The Best Of 1980-1990'),\n",
       " ('When Love Comes To Town', 'The Best Of 1980-1990'),\n",
       " (\"(I Can't Help) Falling In Love With You\",\n",
       "  'UB40 The Best Of - Volume Two [UK]'),\n",
       " (\"Ain't Talkin' 'bout Love\", 'The Best Of Van Halen, Vol. I'),\n",
       " (\"Why Can't This Be Love\", 'The Best Of Van Halen, Vol. I'),\n",
       " (\"When It's Love\", 'The Best Of Van Halen, Vol. I'),\n",
       " (\"Ain't Talkin' 'Bout Love\", 'Van Halen'),\n",
       " ('Feel Your Love Tonight', 'Van Halen'),\n",
       " ('Is This Love', 'Greatest Hits'),\n",
       " (\"Love Ain't No Stranger\", 'Greatest Hits'),\n",
       " ('Looking For Love', 'Greatest Hits'),\n",
       " ('The Deeper The Love', 'Greatest Hits'),\n",
       " ('Oh, My Love',\n",
       "  'Instant Karma: The Amnesty International Campaign to Save Darfur'),\n",
       " ('Real Love',\n",
       "  'Instant Karma: The Amnesty International Campaign to Save Darfur'),\n",
       " ('Believe in Love',\n",
       "  '20th Century Masters - The Millennium Collection: The Best of Scorpions'),\n",
       " ('Rhythm of Love',\n",
       "  '20th Century Masters - The Millennium Collection: The Best of Scorpions'),\n",
       " ('All My Love', 'House of Pain'),\n",
       " ('Freestyle Love',\n",
       "  'Radio Brasil (O Som da Jovem Vanguarda) - Seleccao de Henrique Amaro'),\n",
       " ('Love Comes', 'Every Kind of Light'),\n",
       " ('Arms Around Your Love', 'Carry On'),\n",
       " ('Love Is a Losing Game', 'Back to Black'),\n",
       " ('I Heard Love Is Blind', 'Frank'),\n",
       " ('(There Is) No Greater Love (Teo Licks)', 'Frank')]"
      ]
     },
     "execution_count": 22,
     "metadata": {},
     "output_type": "execute_result"
    }
   ],
   "source": [
    "keyword = \"LOVE\"\n",
    "\n",
    "query = f\"\"\"\n",
    "    SELECT tracks.name, albums.title \n",
    "    FROM tracks\n",
    "    JOIN albums ON tracks.album_id  = albums.id \n",
    "    WHERE lower(tracks.name) LIKE ?\n",
    "\n",
    "\"\"\"\n",
    "\n",
    "c.execute(query, (f\"%{keyword_1}%\",)) # <- Will replace \"?\" in the query with %keyword%\n",
    "rows = c.fetchall()\n",
    "rows"
   ]
  },
  {
   "cell_type": "markdown",
   "metadata": {},
   "source": [
    "---\n",
    "## 5. Top 5 artists\n",
    "\n",
    "Finally, let's use what we've learned to do something a bit more advanced. In this assignment, we define a function that takes a string argument, `genre_name`. You need to write a SQL query that finds the top five artists in that genre with the most tracks.\n",
    "\n",
    "Take your time with this one and make sure to use DBeaver to build your query line by line."
   ]
  },
  {
   "cell_type": "code",
   "execution_count": 27,
   "metadata": {},
   "outputs": [],
   "source": [
    "def top_five_artists(genre_name):\n",
    "    # TODO: return a list of tuples with the top five artists with the most tracks in a given genre.\n",
    "    # The tuples should contain 2 elements: the artist name and their track count, e.g. ('Vengaboys', 243)\n",
    "    query = \"\"\"\n",
    "    SELECT artists.name,COUNT(tracks.name)\n",
    "    FROM tracks\n",
    "    JOIN albums ON tracks.album_id  = albums.id \n",
    "    JOIN artists ON albums.artist_id = artists.id\n",
    "    JOIN genres ON tracks.genre_id = genres.id\n",
    "    WHERE genres.name = ?\n",
    "    GROUP BY artists.name\n",
    "    ORDER BY COUNT(tracks.name) DESC\n",
    "    LIMIT 5\"\"\"\n",
    "    \n",
    "    c.execute(query, (genre_name,)) # <- Will replace \"?\" in the query with %keyword%\n",
    "    rows = c.fetchall()\n",
    "    \n",
    "    return rows"
   ]
  },
  {
   "cell_type": "code",
   "execution_count": 30,
   "metadata": {},
   "outputs": [
    {
     "data": {
      "text/plain": [
       "[('Miles Davis', 37),\n",
       " ('Gene Krupa', 22),\n",
       " ('Spyro Gyra', 21),\n",
       " ('Antônio Carlos Jobim', 14),\n",
       " ('Incognito', 13)]"
      ]
     },
     "execution_count": 30,
     "metadata": {},
     "output_type": "execute_result"
    }
   ],
   "source": [
    "top_five_artists('Jazz')"
   ]
  },
  {
   "cell_type": "code",
   "execution_count": null,
   "metadata": {},
   "outputs": [],
   "source": []
  }
 ],
 "metadata": {
  "kernelspec": {
   "display_name": "Python 3 (ipykernel)",
   "language": "python",
   "name": "python3"
  },
  "language_info": {
   "codemirror_mode": {
    "name": "ipython",
    "version": 3
   },
   "file_extension": ".py",
   "mimetype": "text/x-python",
   "name": "python",
   "nbconvert_exporter": "python",
   "pygments_lexer": "ipython3",
   "version": "3.10.6"
  },
  "toc": {
   "base_numbering": 1,
   "nav_menu": {},
   "number_sections": true,
   "sideBar": true,
   "skip_h1_title": false,
   "title_cell": "Table of Contents",
   "title_sidebar": "Contents",
   "toc_cell": false,
   "toc_position": {},
   "toc_section_display": true,
   "toc_window_display": false
  },
  "varInspector": {
   "cols": {
    "lenName": 16,
    "lenType": 16,
    "lenVar": 40
   },
   "kernels_config": {
    "python": {
     "delete_cmd_postfix": "",
     "delete_cmd_prefix": "del ",
     "library": "var_list.py",
     "varRefreshCmd": "print(var_dic_list())"
    },
    "r": {
     "delete_cmd_postfix": ") ",
     "delete_cmd_prefix": "rm(",
     "library": "var_list.r",
     "varRefreshCmd": "cat(var_dic_list()) "
    }
   },
   "types_to_exclude": [
    "module",
    "function",
    "builtin_function_or_method",
    "instance",
    "_Feature"
   ],
   "window_display": false
  }
 },
 "nbformat": 4,
 "nbformat_minor": 4
}
